{
 "cells": [
  {
   "cell_type": "code",
   "execution_count": 2,
   "id": "292ef8bb",
   "metadata": {},
   "outputs": [
    {
     "name": "stdout",
     "output_type": "stream",
     "text": [
      "Collecting Pyqrcode\n",
      "  Downloading PyQRCode-1.2.1.zip (41 kB)\n",
      "     ---------------------------------------- 41.9/41.9 kB 1.0 MB/s eta 0:00:00\n",
      "  Preparing metadata (setup.py): started\n",
      "  Preparing metadata (setup.py): finished with status 'done'\n",
      "Building wheels for collected packages: Pyqrcode\n",
      "  Building wheel for Pyqrcode (setup.py): started\n",
      "  Building wheel for Pyqrcode (setup.py): finished with status 'done'\n",
      "  Created wheel for Pyqrcode: filename=PyQRCode-1.2.1-py3-none-any.whl size=36240 sha256=5e7b99863a50ce7e6b33485fa6c0fe29bdc80ff360a599f971ab77f3a0cd18b0\n",
      "  Stored in directory: c:\\users\\chlor\\appdata\\local\\pip\\cache\\wheels\\34\\2d\\20\\082874e49a32cdcc87ebaf99dd0099fb7774ef30f010dfb6f2\n",
      "Successfully built Pyqrcode\n",
      "Installing collected packages: Pyqrcode\n",
      "Successfully installed Pyqrcode-1.2.1\n"
     ]
    },
    {
     "name": "stderr",
     "output_type": "stream",
     "text": [
      "\n",
      "[notice] A new release of pip available: 22.2.1 -> 22.3.1\n",
      "[notice] To update, run: python.exe -m pip install --upgrade pip\n"
     ]
    }
   ],
   "source": [
    "!pip install Pyqrcode"
   ]
  },
  {
   "cell_type": "code",
   "execution_count": 3,
   "id": "2546e989",
   "metadata": {},
   "outputs": [],
   "source": [
    "import pyqrcode\n"
   ]
  },
  {
   "cell_type": "code",
   "execution_count": 7,
   "id": "e5e0933a",
   "metadata": {},
   "outputs": [],
   "source": [
    "from pyqrcode import QRCode"
   ]
  },
  {
   "cell_type": "code",
   "execution_count": 9,
   "id": "cc04bf9f",
   "metadata": {},
   "outputs": [],
   "source": [
    "# String which represent the QR code\n",
    "\n",
    "s=\"https://www.youtube.com/watch?v=TbJPfXorPkk\""
   ]
  },
  {
   "cell_type": "code",
   "execution_count": 10,
   "id": "c0be83fd",
   "metadata": {},
   "outputs": [],
   "source": [
    "# Generate QR Code\n",
    "\n",
    "url=pyqrcode.create(s)"
   ]
  },
  {
   "cell_type": "code",
   "execution_count": 13,
   "id": "90f45157",
   "metadata": {},
   "outputs": [],
   "source": [
    "# Create and save the png file naming \"myqr.png\" \n",
    "\n",
    "url.svg(\"myqr.svg\",scale=8)"
   ]
  },
  {
   "cell_type": "code",
   "execution_count": null,
   "id": "250f54ca",
   "metadata": {},
   "outputs": [],
   "source": []
  }
 ],
 "metadata": {
  "kernelspec": {
   "display_name": "Python 3 (ipykernel)",
   "language": "python",
   "name": "python3"
  },
  "language_info": {
   "codemirror_mode": {
    "name": "ipython",
    "version": 3
   },
   "file_extension": ".py",
   "mimetype": "text/x-python",
   "name": "python",
   "nbconvert_exporter": "python",
   "pygments_lexer": "ipython3",
   "version": "3.10.6"
  }
 },
 "nbformat": 4,
 "nbformat_minor": 5
}
